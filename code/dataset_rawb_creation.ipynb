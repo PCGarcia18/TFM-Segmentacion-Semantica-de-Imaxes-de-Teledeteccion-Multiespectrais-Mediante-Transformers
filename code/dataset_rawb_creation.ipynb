{
 "cells": [
  {
   "cell_type": "markdown",
   "metadata": {},
   "source": [
    "# Train and test split"
   ]
  },
  {
   "cell_type": "code",
   "execution_count": 8,
   "metadata": {},
   "outputs": [],
   "source": [
    "test_images_names_list = [    \n",
    "    \"GF2_PMS1__L1A0001064454-MSS1\",\n",
    "    \"GF2_PMS1__L1A0001118839-MSS1\",\n",
    "    \"GF2_PMS1__L1A0001344822-MSS1\",\n",
    "    \"GF2_PMS1__L1A0001348919-MSS1\",\n",
    "    \"GF2_PMS1__L1A0001366278-MSS1\",\n",
    "    \"GF2_PMS1__L1A0001366284-MSS1\",\n",
    "    \"GF2_PMS1__L1A0001395956-MSS1\",\n",
    "    \"GF2_PMS1__L1A0001432972-MSS1\",\n",
    "    \"GF2_PMS1__L1A0001670888-MSS1\",\n",
    "    \"GF2_PMS1__L1A0001680857-MSS1\",\n",
    "    \"GF2_PMS1__L1A0001680858-MSS1\",\n",
    "    \"GF2_PMS1__L1A0001757429-MSS1\",\n",
    "    \"GF2_PMS1__L1A0001765574-MSS1\",\n",
    "    \"GF2_PMS2__L1A0000607677-MSS2\",\n",
    "    \"GF2_PMS2__L1A0000607681-MSS2\",\n",
    "    \"GF2_PMS2__L1A0000718813-MSS2\",\n",
    "    \"GF2_PMS2__L1A0001038935-MSS2\",\n",
    "    \"GF2_PMS2__L1A0001038936-MSS2\",\n",
    "    \"GF2_PMS2__L1A0001119060-MSS2\",\n",
    "    \"GF2_PMS2__L1A0001367840-MSS2\",\n",
    "    \"GF2_PMS2__L1A0001378491-MSS2\",\n",
    "    \"GF2_PMS2__L1A0001378501-MSS2\",\n",
    "    \"GF2_PMS2__L1A0001396036-MSS2\",\n",
    "    \"GF2_PMS2__L1A0001396037-MSS2\",\n",
    "    \"GF2_PMS2__L1A0001416129-MSS2\",\n",
    "    \"GF2_PMS2__L1A0001471436-MSS2\",\n",
    "    \"GF2_PMS2__L1A0001517494-MSS2\",\n",
    "    \"GF2_PMS2__L1A0001591676-MSS2\",\n",
    "    \"GF2_PMS2__L1A0001787564-MSS2\",\n",
    "    \"GF2_PMS2__L1A0001821754-MSS2\"\n",
    "    ]\n",
    "\n",
    "\n",
    "\n",
    "import os\n",
    "def train_test_split_gaofen_images(images_dir,destiny_path_image_train,destiny_path_image_test):\n",
    "    for image_idx, image_filename in enumerate(os.listdir(images_dir)):\n",
    "        image_filename_cmp = image_filename.split(\".\")[0]\n",
    "        if image_filename_cmp not in test_images_names_list:\n",
    "            print(f\"{image_idx}-{image_filename} is train\")\n",
    "            os.system(\"cp \" + images_dir + image_filename + \" \" + destiny_path_image_train)\n",
    "        else:\n",
    "            print(f\"{image_idx}-{image_filename} is test\")\n",
    "            os.system(\"cp \" + images_dir + image_filename + \" \" + destiny_path_image_test)\n",
    "\n",
    "\n",
    "\n",
    "\n",
    "def train_test_split_gaofen_masks(masks_dir,destiny_path_mask_train,destiny_path_mask_test):\n",
    "    for mask_idx, mask_filename in enumerate(os.listdir(masks_dir)):\n",
    "        mask_filename_cmp = mask_filename.split(\".\")[0]\n",
    "        if mask_filename_cmp[:-8] not in test_images_names_list:\n",
    "            print(f\"{mask_idx}-{mask_filename} is train\")\n",
    "            os.system(\"cp \" + masks_dir + mask_filename + \" \" + destiny_path_mask_train)\n",
    "        else:\n",
    "            print(f\"{mask_idx}-{mask_filename} is test\")\n",
    "            os.system(\"cp \" + masks_dir + mask_filename + \" \" + destiny_path_mask_test)\n",
    "\n"
   ]
  },
  {
   "cell_type": "code",
   "execution_count": null,
   "metadata": {},
   "outputs": [],
   "source": [
    "#IMAGES\n",
    "images_dir = \"\" #ADD PATH\n",
    "destiny_path_image_train = \"\"#ADD PATH\n",
    "destiny_path_image_test = \"\"#ADD PATH\n",
    "\n",
    "train_test_split_gaofen_images(images_dir,destiny_path_image_train,destiny_path_image_test)"
   ]
  },
  {
   "cell_type": "code",
   "execution_count": null,
   "metadata": {},
   "outputs": [],
   "source": [
    "#MASKS\n",
    "masks_dir = \"\"#ADD PATH\n",
    "destiny_path_masks_train = \"\"#ADD PATH\n",
    "destiny_path_masks_test = \"\"#ADD PATH\n",
    "\n",
    "train_test_split_gaofen_masks(masks_dir,destiny_path_masks_train,destiny_path_masks_test)"
   ]
  },
  {
   "cell_type": "markdown",
   "metadata": {},
   "source": [
    "# Create Datasets"
   ]
  },
  {
   "cell_type": "code",
   "execution_count": 13,
   "metadata": {},
   "outputs": [],
   "source": [
    "import os\n",
    "import numpy as np\n",
    "from PIL import Image\n",
    "import cv2\n",
    "\n",
    "def divide_image_into_quadrants(image, n):\n",
    "    \n",
    "    if(len(image.shape) == 3):\n",
    "        rows, cols, _ = image.shape  \n",
    "    else:\n",
    "        rows, cols = image.shape  \n",
    "    \n",
    "    num_rows = int(n ** 0.5)\n",
    "    num_cols = n // num_rows\n",
    "    \n",
    "    quadrant_rows = rows // num_rows\n",
    "    quadrant_cols = cols // num_cols\n",
    "    \n",
    "    quadrants = []\n",
    "    \n",
    "    for i in range(num_rows):\n",
    "        for j in range(num_cols):\n",
    "            start_row = i * quadrant_rows\n",
    "            end_row = start_row + quadrant_rows\n",
    "            start_col = j * quadrant_cols\n",
    "            end_col = start_col + quadrant_cols\n",
    "            \n",
    "            quadrant = image[start_row:end_row, start_col:end_col]\n",
    "            quadrants.append(quadrant)\n",
    "    \n",
    "    return quadrants\n",
    "\n",
    "def process_8bit_images(path_8bit_source, path_8bit_destiny):\n",
    "    \n",
    "    for image_name in os.listdir(path_8bit_source):\n",
    "        print(f\"{path_8bit_source}{image_name}\")\n",
    "        image8bits = Image.open(f\"{path_8bit_source}{image_name}\").convert('CMYK')\n",
    "        B = 4\n",
    "        multi = np.zeros((B, image8bits.size[1], image8bits.size[0]))\n",
    "\n",
    "        for i in range (0, B):\n",
    "            multi[i,:,:] = np.array(image8bits.getchannel(i))\n",
    "\n",
    "\n",
    "        \n",
    "        image_raw = np.moveaxis(multi, 0, -1)\n",
    "\n",
    "        quadrants = divide_image_into_quadrants(image_raw, 4)\n",
    "\n",
    "\n",
    "        for idx,q in enumerate(quadrants):  \n",
    "            print(f\"Saving image {image_name[:-4]}_{idx} with shape {q.shape}\")\n",
    "            newFile = open(f\"{path_8bit_destiny}{os.path.splitext(image_name)[0]}_{idx}.rawb\", \"wb\")\n",
    "            q.tofile(newFile, format=\"%d\")\n",
    "            newFile.close()\n",
    "\n",
    "def process_masks(path_source,path_destiny):\n",
    "    for mask_name in os.listdir(path_source):\n",
    "            img = cv2.imread(f'{path_source}{mask_name}',cv2.IMREAD_UNCHANGED)\n",
    "            smaller_imgs = divide_image_into_quadrants(img,4)\n",
    "            for idx, small_image in enumerate(smaller_imgs):\n",
    "                filename = f'{path_destiny}{os.path.splitext(mask_name)[0]}'\n",
    "                filename = filename[:-8]\n",
    "                cv2.imwrite(f'{filename}_{idx}_24label.png',small_image)\n"
   ]
  },
  {
   "cell_type": "code",
   "execution_count": null,
   "metadata": {},
   "outputs": [],
   "source": [
    "# TRAIN\n",
    "path_8bit_train = \"\" #Path to the 8bit images\n",
    "path_8bit_train_destiny = \"\" #Path to save the 8bit images in quadrants\n",
    "process_8bit_images(path_8bit_train, path_8bit_train_destiny)"
   ]
  },
  {
   "cell_type": "code",
   "execution_count": null,
   "metadata": {},
   "outputs": [],
   "source": [
    "# TEST\n",
    "path_8bit_test = \"\"#Path to the 8bit images\n",
    "path_8bit_test_destiny = \"\"#Path to save the 8bit images in quadrants\n",
    "process_8bit_images(path_8bit_test, path_8bit_test_destiny)"
   ]
  },
  {
   "cell_type": "code",
   "execution_count": null,
   "metadata": {},
   "outputs": [],
   "source": [
    "# TRAIN MASKS\n",
    "path_masks_train = \"\"#Path to the masks\n",
    "path_masks_train_destiny = \"\"#Path to save the masks in quadrants\n",
    "process_masks(path_masks_train,path_masks_train_destiny)"
   ]
  },
  {
   "cell_type": "code",
   "execution_count": null,
   "metadata": {},
   "outputs": [],
   "source": [
    "# TEST MASKS\n",
    "path_masks_test = \"\"#Path to the masks\n",
    "path_masks_test_destiny = \"\"#Path to save the masks in quadrants\n",
    "process_masks(path_masks_test,path_masks_test_destiny)"
   ]
  },
  {
   "cell_type": "markdown",
   "metadata": {},
   "source": [
    "# Read function"
   ]
  },
  {
   "cell_type": "code",
   "execution_count": null,
   "metadata": {},
   "outputs": [],
   "source": [
    "def read_rawb_NirRGB(file_name):\n",
    "    SMALL_IMAGE_SHAPE = (3454, 3650, 4)\n",
    "    with open(file_name, 'rb') as file:\n",
    "        img = file.read()\n",
    "        \n",
    "    img = np.frombuffer(img, dtype=np.float64)\n",
    "\n",
    "    img = img.reshape(SMALL_IMAGE_SHAPE)\n",
    "\n",
    "    return img.astype(np.uint8)\n",
    "\n",
    "def read_rawb_RGB(file_name):\n",
    "    img = read_rawb_NirRGB(file_name)\n",
    "    \n",
    "    return img[:, :, 1:4]  # Delete Nir channel"
   ]
  }
 ],
 "metadata": {
  "kernelspec": {
   "display_name": "mask2former",
   "language": "python",
   "name": "python3"
  },
  "language_info": {
   "codemirror_mode": {
    "name": "ipython",
    "version": 3
   },
   "file_extension": ".py",
   "mimetype": "text/x-python",
   "name": "python",
   "nbconvert_exporter": "python",
   "pygments_lexer": "ipython3",
   "version": "3.8.19"
  }
 },
 "nbformat": 4,
 "nbformat_minor": 2
}
